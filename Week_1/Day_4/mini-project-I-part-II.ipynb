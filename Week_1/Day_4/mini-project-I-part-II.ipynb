{
 "cells": [
  {
   "cell_type": "markdown",
   "metadata": {},
   "source": [
    "## Movies\n",
    "In this part of mini-project, we need to have our API-KEY ready because this API won't work without it.\n",
    "\n",
    "We encourage you to look for correct endpoints in [the documentation](https://developers.themoviedb.org/3/account). We can also play around with requests there before copying them to Python."
   ]
  },
  {
   "cell_type": "code",
   "execution_count": 1,
   "metadata": {},
   "outputs": [],
   "source": [
    "import requests\n",
    "import os\n",
    "import json\n",
    "\n",
    "from IPython.display import JSON"
   ]
  },
  {
   "cell_type": "markdown",
   "metadata": {},
   "source": [
    "## Demo"
   ]
  },
  {
   "cell_type": "code",
   "execution_count": 2,
   "metadata": {},
   "outputs": [],
   "source": [
    "base = \"https://api.themoviedb.org/3\"\n",
    "url = \"/search/movie\"\n",
    "\n",
    "query = 'titanic'\n",
    "api_key = os.environ[\"TMDB_Key\"]\n",
    "params = f'?query={query}&api_key={api_key}' "
   ]
  },
  {
   "cell_type": "code",
   "execution_count": 3,
   "metadata": {},
   "outputs": [],
   "source": [
    "res = requests.get(base+url+params)"
   ]
  },
  {
   "cell_type": "code",
   "execution_count": 4,
   "metadata": {},
   "outputs": [
    {
     "data": {
      "text/plain": [
       "200"
      ]
     },
     "execution_count": 4,
     "metadata": {},
     "output_type": "execute_result"
    }
   ],
   "source": [
    "res.status_code"
   ]
  },
  {
   "cell_type": "code",
   "execution_count": 5,
   "metadata": {},
   "outputs": [
    {
     "data": {
      "application/json": {
       "page": 1,
       "results": [
        {
         "adult": false,
         "backdrop_path": "/6VmFqApQRyZZzmiGOQq2C92jyvH.jpg",
         "genre_ids": [
          18,
          10749
         ],
         "id": 597,
         "original_language": "en",
         "original_title": "Titanic",
         "overview": "101-year-old Rose DeWitt Bukater tells the story of her life aboard the Titanic, 84 years later. A young Rose boards the ship with her mother and fiancé. Meanwhile, Jack Dawson and Fabrizio De Rossi win third-class tickets aboard the ship. Rose tells the whole story from Titanic's departure through to its death—on its first and last voyage—on April 15, 1912.",
         "popularity": 91.236,
         "poster_path": "/9xjZS2rlVxm8SFx8kPC3aIGCOYQ.jpg",
         "release_date": "1997-11-18",
         "title": "Titanic",
         "video": false,
         "vote_average": 7.9,
         "vote_count": 19943
        },
        {
         "adult": false,
         "backdrop_path": "/e9XRikkyth0GtG8RkU3XNm0oMsA.jpg",
         "genre_ids": [
          28,
          12,
          53
         ],
         "id": 44918,
         "original_language": "en",
         "original_title": "Titanic II",
         "overview": "On the 100th anniversary of the original voyage, a modern luxury liner christened \"Titanic 2,\" follows the path of its namesake. But when a tsunami hurls an ice berg into the new ship's path, the passengers and crew must fight to avoid a similar fate.",
         "popularity": 35.123,
         "poster_path": "/3m12UeP1DMfhYZyvpLftaJGsyp3.jpg",
         "release_date": "2010-08-07",
         "title": "Titanic II",
         "video": false,
         "vote_average": 4.9,
         "vote_count": 273
        },
        {
         "adult": false,
         "backdrop_path": "/3oShsRvAyZiQQ5lP2hszWN9Ri0b.jpg",
         "genre_ids": [
          28,
          18,
          10749
         ],
         "id": 16535,
         "original_language": "en",
         "original_title": "Titanic",
         "overview": "Unhappily married, Julia Sturges decides to go to America with her two children on the unsinkable Titanic. Her husband, Richard also arranges passage on the luxury liner so as to have custody of their two children. All this fades to insignificance once the ship hits an iceberg.",
         "popularity": 12.28,
         "poster_path": "/22Fh4UoxP6ejL2IFws76TJ8oYlj.jpg",
         "release_date": "1953-04-11",
         "title": "Titanic",
         "video": false,
         "vote_average": 6.4,
         "vote_count": 77
        },
        {
         "adult": false,
         "backdrop_path": null,
         "genre_ids": [
          35,
          27
         ],
         "id": 4240,
         "original_language": "en",
         "original_title": "Titanic 2000",
         "overview": "The luxury liner Titanic 2000 has set sail on its maiden voyage, and one of the passengers is the vampire Vladamina. Vladamina is searching for a woman she can turn into a vampire queen, and frustrated rock groupie Shari looks to be a perfect target. As various people get seduced and/or killed as the liner continues on its doomed voyage, Shari must chose between eternity as a living dead sex slave or a frigid grave at the bottom of the ocean.",
         "popularity": 11.185,
         "poster_path": "/91p8xU2nykmw8psADIJOlBLdlXK.jpg",
         "release_date": "1999-01-01",
         "title": "Titanic 2000",
         "video": false,
         "vote_average": 3.4,
         "vote_count": 8
        },
        {
         "adult": false,
         "backdrop_path": "/82tRA7Vdf7TwdyJYILUh6FuY88L.jpg",
         "genre_ids": [
          99
         ],
         "id": 198901,
         "original_language": "en",
         "original_title": "Titanic: 100 Years On",
         "overview": "The \"unsinkable\" floating palace set sail from Southampton on 10th April 1912 on her maiden voyage to New York. An iceberg ended this monumental journey 5 days later. Only 705 of the passengers and crew survived. This program features an exclusive look at the Sea City Museum Titanic Exhibit in Southampton, interviews from both survivors and the cast of the blockbuster film.",
         "popularity": 16.678,
         "poster_path": "/uAaXfaJpKjmsA3F1KgowcRJPKPM.jpg",
         "release_date": "2012-06-01",
         "title": "Titanic: 100 Years On",
         "video": false,
         "vote_average": 6.9,
         "vote_count": 18
        },
        {
         "adult": false,
         "backdrop_path": "/edHgXEtPbyVIQ7xKb1cvJJqTVhA.jpg",
         "genre_ids": [
          28,
          18,
          36
         ],
         "id": 11021,
         "original_language": "de",
         "original_title": "Titanic",
         "overview": "This little-known German film retells the true story of the British ocean liner that met a tragic fate. Ernst Fritz Fürbringer plays the president of the White Star Line, who unwisely pressed the Titanic's captain (Otto Wernicke) to make the swiftest possible crossing to New York. Interestingly, director Herbert Selpin was arrested by the Gestapo during this film's production, and German censors banned the film for its scenes of panic and terror.",
         "popularity": 5.14,
         "poster_path": "/Al7oIXQ4dZAofBTZWm6OiXS3MEa.jpg",
         "release_date": "1943-11-10",
         "title": "Titanic",
         "video": false,
         "vote_average": 6.1,
         "vote_count": 43
        },
        {
         "adult": false,
         "backdrop_path": "/1Z5RUFWhdH1NZ2M1NfRMov1jC4r.jpg",
         "genre_ids": [
          878,
          28,
          12,
          35
         ],
         "id": 467839,
         "original_language": "en",
         "original_title": "Aliens vs. Titanic",
         "overview": "Offering only the finest amenities, the ‘TITAN 1C’ space-cruiser is considered the most luxurious star-liner ever built. Future spring-breakers on board are excited to be touring through space with some of the world’s elite. However, a sudden meteor storm smashes into the hull, and a deadly biological alien life form is let loose on the ship.  Seeking a suitable host, the retrovirus successfully merges with some the passengers, transforming them into seemingly invincible predators with the “touch of death”. As the ship is destroyed, the surviving passengers crash on a remote planet, and they learn that one of them is “infected”. They must quickly band together before it has a chance to slaughter them all.",
         "popularity": 7.124,
         "poster_path": "/blREOd05hyvbiA3Qc6BqCJ7unvC.jpg",
         "release_date": "2017-09-18",
         "title": "Aliens vs. Titanic",
         "video": false,
         "vote_average": 5.3,
         "vote_count": 13
        },
        {
         "adult": false,
         "backdrop_path": "/q3b8Vi2W6j72aXKggiVoDnEyDgU.jpg",
         "genre_ids": [
          12
         ],
         "id": 24575,
         "original_language": "en",
         "original_title": "Raise the Titanic",
         "overview": "To obtain a supply of a rare mineral, a ship raising operation is conducted for the only known source, the Titanic.",
         "popularity": 8.212,
         "poster_path": "/beYNLj44FOdV47tomXuJyPkvCKl.jpg",
         "release_date": "1980-08-01",
         "title": "Raise the Titanic",
         "video": false,
         "vote_average": 5.5,
         "vote_count": 57
        },
        {
         "adult": false,
         "backdrop_path": "/sdtfwZulErbQ7y9RVbaOuWVouD6.jpg",
         "genre_ids": [
          36,
          18,
          53
         ],
         "id": 86938,
         "original_language": "en",
         "original_title": "S.O.S. Titanic",
         "overview": "The Titanic disaster is depicted as seen through the eyes of one couple in each of the three classes on board.",
         "popularity": 4.64,
         "poster_path": "/wy5ut2GVpPaNxxXFRdkIywjRpeO.jpg",
         "release_date": "1979-09-23",
         "title": "S.O.S. Titanic",
         "video": false,
         "vote_average": 6.2,
         "vote_count": 24
        },
        {
         "adult": false,
         "backdrop_path": "/4Sddw1BFQFHOIQZ3DY7QS0mGnVe.jpg",
         "genre_ids": [
          16,
          10751
         ],
         "id": 71235,
         "original_language": "it",
         "original_title": "Titanic: La leggenda continua",
         "overview": "An animated retelling of the worst passenger ship disaster in history. In this version, love blossoms between the upper-class Sir William and the blue-collar Angelica, who is hoping to find romance in America. At the same time, there are also a number of animal passengers, including talking dogs, cats and mice, who are also looking forward to arriving in the New World.",
         "popularity": 5.168,
         "poster_path": "/s1PHRSlos2hIFrtA8Ze0JybJTGb.jpg",
         "release_date": "2000-09-15",
         "title": "Titanic: The Legend Goes On...",
         "video": false,
         "vote_average": 2.1,
         "vote_count": 45
        },
        {
         "adult": false,
         "backdrop_path": null,
         "genre_ids": [
          10770,
          99
         ],
         "id": 463397,
         "original_language": "en",
         "original_title": "Nazi Titanic",
         "overview": "During a bizarre chapter of WWII, Nazi propaganda minister Joseph Goebbels decided to make a movie based on the sinking of the Titanic. This epic film was so large in scale that the Nazis were forced to divert men, material and ships from the war effort in order to complete it. Titanic was filmed aboard cruise ship SS Cap Arcona in the Baltic Sea. The movie’s director Herbert Selpin was arrested by the Gestapo over comments he made about the ship’s crew and he was questioned by Goebbels. Selpin was found dead the next day in his cell. The Gestapo’s verdict was suicide. Titanic never received the impressive premiere that Goebbels intended, being first shown in Nazi-occupied Paris in 1943. We reveal this little known but fascinating story by looking at the making of the film, as well as the fate of the German ship Cap Arcona.",
         "popularity": 3.269,
         "poster_path": "/pmCnVAP0dQumyDMgCnzEgnpMt1g.jpg",
         "release_date": "2012-04-14",
         "title": "Nazi Titanic",
         "video": false,
         "vote_average": 7,
         "vote_count": 3
        },
        {
         "adult": false,
         "backdrop_path": null,
         "genre_ids": [
          99,
          36
         ],
         "id": 530108,
         "original_language": "en",
         "original_title": "The Unsinkable Titanic",
         "overview": "On April 10, 1912, the RMS Titanic embarked on its maiden voyage, sailing from Southampton, England, to New York City. One of the largest and most luxurious passenger liners at the time, the Titanic was also equipped with watertight compartments, which led many to consider the ship unsinkable; an anonymous deckhand famously claimed that “God himself could not sink this ship.” On April 14, however, the ship struck an iceberg, and early the next day it sank. Some 1,500 people perished.",
         "popularity": 4.071,
         "poster_path": "/m3py1JoOPM3s3RTRv965tMC8Fqy.jpg",
         "release_date": "2008-11-03",
         "title": "The Unsinkable Titanic",
         "video": false,
         "vote_average": 9.5,
         "vote_count": 2
        },
        {
         "adult": false,
         "backdrop_path": null,
         "genre_ids": [
          99
         ],
         "id": 421657,
         "original_language": "en",
         "original_title": "Inside the Titanic",
         "overview": "An ambitious factual drama that reveals moment by moment exactly how the Titanic sank, telling the untold stories of the engineers and stokers who battled the icy water.",
         "popularity": 3.864,
         "poster_path": "/jDHeorRWLuzyXSUGVX47OSdWvVM.jpg",
         "release_date": "2012-03-22",
         "title": "Inside the Titanic",
         "video": false,
         "vote_average": 7.5,
         "vote_count": 2
        },
        {
         "adult": false,
         "backdrop_path": "/hDfaa3Nj3K3SkXBr8eALYfPT5pF.jpg",
         "genre_ids": [
          99
         ],
         "id": 428950,
         "original_language": "en",
         "original_title": "Drain the Titanic",
         "overview": "Computer-generated imagery and other visualization techniques reveal how it would look if all the water was removed from RMS Titanic's final resting place.",
         "popularity": 3.491,
         "poster_path": "/68Fppsnpc3OmQK8kIustffrxHbq.jpg",
         "release_date": "2016-05-05",
         "title": "Drain the Titanic",
         "video": false,
         "vote_average": 7.3,
         "vote_count": 10
        },
        {
         "adult": false,
         "backdrop_path": null,
         "genre_ids": [
          99
         ],
         "id": 889363,
         "original_language": "en",
         "original_title": "Titanic: Titanic Remembered",
         "overview": "British documentary takes a look at a few stories of the Titanic. Narrator/host Ray Johnson starts off talking about the actual sinking and then we break off into a few other subjects. Included are the various Titanic Societies from around the world and we get to meet a few of the people. They talk about why they're so fascinated with Titanic and tell a few of their personal stories.",
         "popularity": 1.027,
         "poster_path": "/h6BBFF6EaiQfrYgnf8bcjOhXui5.jpg",
         "release_date": "1998-01-01",
         "title": "Titanic: Titanic Remembered",
         "video": false,
         "vote_average": 0,
         "vote_count": 0
        },
        {
         "adult": false,
         "backdrop_path": null,
         "genre_ids": [],
         "id": 760524,
         "original_language": "en",
         "original_title": "Titanic",
         "overview": "\"Titanic\" is a Punjabi feature film. It is family movie. \"Titanic\" is based on a young boy's life whose dreams are so high. He wants to join Indian Navy. Unfortunately his life completely changed due to week financial conditions at home. He starts his work at low level driving of Autoriksha. He works so hard and he faces many obstacles in this work. At the end he accepted that his vehicle is submarine for him.",
         "popularity": 2.328,
         "poster_path": null,
         "release_date": "2018-12-21",
         "title": "Titanic",
         "video": false,
         "vote_average": 0,
         "vote_count": 0
        },
        {
         "adult": false,
         "backdrop_path": "/yFD05fZjJKgZ4t7LGJB2ILPdZ2X.jpg",
         "genre_ids": [
          36
         ],
         "id": 287347,
         "original_language": "en",
         "original_title": "Titanic: The Aftermath",
         "overview": "Explores what happened after the Titanic sank: the lives the disaster affected and the changes it brought to sea travel.",
         "popularity": 2.962,
         "poster_path": "/3LqoUNnbHAolDXI2pLPEXko9wFt.jpg",
         "release_date": "2012-04-01",
         "title": "Titanic: The Aftermath",
         "video": false,
         "vote_average": 0,
         "vote_count": 0
        },
        {
         "adult": false,
         "backdrop_path": "/v6kUC2dsDwSfhwCWdAgldXB7Knu.jpg",
         "genre_ids": [
          99,
          18,
          10770
         ],
         "id": 102370,
         "original_language": "en",
         "original_title": "Saving the Titanic",
         "overview": "In the hours after the Titanic struck an iceberg 100 years ago, a team of shipbuilders and engineers raced against time to save the stricken vessel.  Based on eye-witness accounts, this film reveals what went on below decks in the hours before the Titanic sank, telling the previously relatively unheralded stories of engineers who fought courageously to hold back the power of the sea and keep the power systems running, even when they learned that all was lost.  Most of these men died but their actions bought enough time to save many lives.  This drama-documentary tells a poignant story of self-sacrifice by the Titanic's engineers, stokers and firemen in the face of impending death.",
         "popularity": 2.772,
         "poster_path": "/gei8kg0KouyPJKUmxDwTNSnBUTV.jpg",
         "release_date": "2012-04-15",
         "title": "Saving the Titanic",
         "video": false,
         "vote_average": 7.3,
         "vote_count": 7
        },
        {
         "adult": false,
         "backdrop_path": "/mEoU71g0SjTDEiMTyRj1bV2EfIp.jpg",
         "genre_ids": [
          99
         ],
         "id": 213362,
         "original_language": "en",
         "original_title": "Reflections on Titanic",
         "overview": "An enthralling and fast-paced four-part documentary feature that covers the making of one of the last major Hollywood epics; Titanic. Cast and crew speak on setting the sinking of the ship against a classic romance. The feature also examines casting and the young couple headlining the film, DiCaprio's and Winslet's on-set friendship and their differing acting styles, the expansive sets and filming locations, the authenticity of the recreated ship, James Cameron's work and dedication, and budgeting. And many more aspects of the film are overviewed.",
         "popularity": 3.606,
         "poster_path": null,
         "release_date": "2012-09-10",
         "title": "Reflections on Titanic",
         "video": false,
         "vote_average": 7.2,
         "vote_count": 19
        },
        {
         "adult": false,
         "backdrop_path": "/oTR3KI1kVQ6ULrR2X6TobDlYVzO.jpg",
         "genre_ids": [
          16,
          10751
         ],
         "id": 44310,
         "original_language": "it",
         "original_title": "La leggenda del Titanic",
         "overview": "Old Grandpa mouse tells to his grandchildren the \"real\" story of the Titanic disaster, including evil sharks, a giant octopus, and an evil whaling scheme.",
         "popularity": 2.149,
         "poster_path": "/tscmcvMs9T1TOjoMD7x12FveNsR.jpg",
         "release_date": "1999-01-01",
         "title": "The Legend of the Titanic",
         "video": false,
         "vote_average": 3.2,
         "vote_count": 30
        }
       ],
       "total_pages": 7,
       "total_results": 138
      },
      "text/plain": [
       "<IPython.core.display.JSON object>"
      ]
     },
     "execution_count": 5,
     "metadata": {
      "application/json": {
       "expanded": false,
       "root": "root"
      }
     },
     "output_type": "execute_result"
    }
   ],
   "source": [
    "JSON(res.json())"
   ]
  },
  {
   "cell_type": "code",
   "execution_count": null,
   "metadata": {},
   "outputs": [],
   "source": []
  },
  {
   "cell_type": "markdown",
   "metadata": {},
   "source": [
    "## Define function to fetch data given specific url"
   ]
  },
  {
   "cell_type": "code",
   "execution_count": 6,
   "metadata": {},
   "outputs": [],
   "source": [
    "def get_data(base, url, parameters):\n",
    "    res = requests.get(base+url, params= parameters)\n",
    "    print(res.status_code)\n",
    "    \n",
    "    if res.status_code >= 200 and res.status_code < 400:\n",
    "        return res.json()"
   ]
  },
  {
   "cell_type": "markdown",
   "metadata": {},
   "source": [
    "## Task\n",
    "Search for you favorite movie and return the information about the movie:\n",
    "- name\n",
    "- release date\n",
    "- runtime\n",
    "- revenue\n",
    "- length of the overview\n",
    "- number of votes\n",
    "- voting average"
   ]
  },
  {
   "cell_type": "code",
   "execution_count": 7,
   "metadata": {},
   "outputs": [
    {
     "name": "stdout",
     "output_type": "stream",
     "text": [
      "200\n"
     ]
    },
    {
     "data": {
      "application/json": {
       "page": 1,
       "results": [
        {
         "adult": false,
         "backdrop_path": "/jOh79POQu4hyVIseUxdQxTW7vOf.jpg",
         "genre_ids": [
          12,
          14,
          28
         ],
         "id": 22,
         "original_language": "en",
         "original_title": "Pirates of the Caribbean: The Curse of the Black Pearl",
         "overview": "Jack Sparrow, a freewheeling 18th-century pirate, quarrels with a rival pirate bent on pillaging Port Royal. When the governor's daughter is kidnapped, Sparrow decides to help the girl's love save her.",
         "popularity": 101.385,
         "poster_path": "/z8onk7LV9Mmw6zKz4hT6pzzvmvl.jpg",
         "release_date": "2003-07-09",
         "title": "Pirates of the Caribbean: The Curse of the Black Pearl",
         "video": false,
         "vote_average": 7.8,
         "vote_count": 16548
        },
        {
         "adult": false,
         "backdrop_path": null,
         "genre_ids": [],
         "id": 567350,
         "original_language": "en",
         "original_title": "An Epic at Sea: The Making of 'Pirates of the Caribbean: The Curse of the Black Pearl'",
         "overview": "",
         "popularity": 1.514,
         "poster_path": "/oEDvVHWDPQYd9kT5Py8sDvFtPZD.jpg",
         "release_date": "2003-12-02",
         "title": "An Epic at Sea: The Making of 'Pirates of the Caribbean: The Curse of the Black Pearl'",
         "video": true,
         "vote_average": 0,
         "vote_count": 0
        }
       ],
       "total_pages": 1,
       "total_results": 2
      },
      "text/plain": [
       "<IPython.core.display.JSON object>"
      ]
     },
     "execution_count": 7,
     "metadata": {
      "application/json": {
       "expanded": false,
       "root": "root"
      }
     },
     "output_type": "execute_result"
    }
   ],
   "source": [
    "url = '/search/movie'\n",
    "parameters = {\n",
    "    'api_key': api_key,\n",
    "    'query': 'Pirates of the Caribbean: The Curse of the Black Pearl',\n",
    "}\n",
    "\n",
    "fav_movie = get_data(base, url, parameters)\n",
    "\n",
    "JSON(fav_movie)"
   ]
  },
  {
   "cell_type": "code",
   "execution_count": 8,
   "metadata": {},
   "outputs": [],
   "source": [
    "fav_movie = fav_movie['results'][0]\n",
    "fav_movie_info = {}\n",
    "fav_movie_info['name'] = fav_movie['title']\n",
    "fav_movie_info['release date'] = fav_movie['release_date']"
   ]
  },
  {
   "cell_type": "code",
   "execution_count": 10,
   "metadata": {},
   "outputs": [
    {
     "name": "stdout",
     "output_type": "stream",
     "text": [
      "200\n"
     ]
    },
    {
     "data": {
      "application/json": {
       "adult": false,
       "backdrop_path": "/jOh79POQu4hyVIseUxdQxTW7vOf.jpg",
       "belongs_to_collection": {
        "backdrop_path": "/wxgD3fB5lQ2sGJLog0rvXW049Pf.jpg",
        "id": 295,
        "name": "Pirates of the Caribbean Collection",
        "poster_path": "/zRBaZxS5YauLvRYjAdL4AUCwlht.jpg"
       },
       "budget": 140000000,
       "genres": [
        {
         "id": 12,
         "name": "Adventure"
        },
        {
         "id": 14,
         "name": "Fantasy"
        },
        {
         "id": 28,
         "name": "Action"
        }
       ],
       "homepage": "http://disney.go.com/disneyvideos/liveaction/pirates/main_site/main.html",
       "id": 22,
       "imdb_id": "tt0325980",
       "original_language": "en",
       "original_title": "Pirates of the Caribbean: The Curse of the Black Pearl",
       "overview": "Jack Sparrow, a freewheeling 18th-century pirate, quarrels with a rival pirate bent on pillaging Port Royal. When the governor's daughter is kidnapped, Sparrow decides to help the girl's love save her.",
       "popularity": 101.385,
       "poster_path": "/z8onk7LV9Mmw6zKz4hT6pzzvmvl.jpg",
       "production_companies": [
        {
         "id": 2,
         "logo_path": "/wdrCwmRnLFJhEoH8GSfymY85KHT.png",
         "name": "Walt Disney Pictures",
         "origin_country": "US"
        },
        {
         "id": 130,
         "logo_path": "/c9dVHPOL3cqCr2593Ahk0nEKTEM.png",
         "name": "Jerry Bruckheimer Films",
         "origin_country": "US"
        }
       ],
       "production_countries": [
        {
         "iso_3166_1": "US",
         "name": "United States of America"
        }
       ],
       "release_date": "2003-07-09",
       "revenue": 655011224,
       "runtime": 143,
       "spoken_languages": [
        {
         "english_name": "English",
         "iso_639_1": "en",
         "name": "English"
        }
       ],
       "status": "Released",
       "tagline": "Prepare to be blown out of the water.",
       "title": "Pirates of the Caribbean: The Curse of the Black Pearl",
       "video": false,
       "vote_average": 7.8,
       "vote_count": 16549
      },
      "text/plain": [
       "<IPython.core.display.JSON object>"
      ]
     },
     "execution_count": 10,
     "metadata": {
      "application/json": {
       "expanded": false,
       "root": "root"
      }
     },
     "output_type": "execute_result"
    }
   ],
   "source": [
    "url = f'/movie/{fav_movie[\"id\"]}'\n",
    "parameters = {'api_key': api_key}\n",
    "\n",
    "fav_movie_details = get_data(base, url, parameters)\n",
    "\n",
    "JSON(fav_movie_details)"
   ]
  },
  {
   "cell_type": "code",
   "execution_count": 11,
   "metadata": {},
   "outputs": [],
   "source": [
    "fav_movie_info['run time'] = fav_movie_details['runtime']\n",
    "fav_movie_info['revenue'] = fav_movie_details['revenue']\n",
    "fav_movie_info['length of the overview'] = len(fav_movie_details['overview'])\n",
    "fav_movie_info['number of votes'] = fav_movie_details['vote_count']\n",
    "fav_movie_info['voting average'] = fav_movie_details['vote_average']"
   ]
  },
  {
   "cell_type": "code",
   "execution_count": 12,
   "metadata": {},
   "outputs": [
    {
     "data": {
      "text/plain": [
       "{'name': 'Pirates of the Caribbean: The Curse of the Black Pearl',\n",
       " 'release date': '2003-07-09',\n",
       " 'run time': 143,\n",
       " 'revenue': 655011224,\n",
       " 'length of the overview': 201,\n",
       " 'number of votes': 16549,\n",
       " 'voting average': 7.8}"
      ]
     },
     "execution_count": 12,
     "metadata": {},
     "output_type": "execute_result"
    }
   ],
   "source": [
    "fav_movie_info"
   ]
  },
  {
   "cell_type": "markdown",
   "metadata": {},
   "source": [
    "## Task\n",
    "Search for you favorite actor/actress and return the information about him/her:\n",
    "- name\n",
    "- date of birth\n",
    "- place of birth\n",
    "- length of the biography"
   ]
  },
  {
   "cell_type": "code",
   "execution_count": 13,
   "metadata": {},
   "outputs": [
    {
     "name": "stdout",
     "output_type": "stream",
     "text": [
      "200\n"
     ]
    },
    {
     "data": {
      "application/json": {
       "page": 1,
       "results": [
        {
         "adult": false,
         "gender": 2,
         "id": 66743,
         "known_for": [
          {
           "adult": false,
           "backdrop_path": "/kx2YVkcsnTnmF9XGTAj2NqEcHFG.jpg",
           "genre_ids": [
            28,
            53,
            878
           ],
           "id": 49530,
           "media_type": "movie",
           "original_language": "en",
           "original_title": "In Time",
           "overview": "In the not-too-distant future the aging gene has been switched off. To avoid overpopulation, time has become the currency and the way people pay for luxuries and necessities. The rich can live forever, while the rest try to negotiate for their immortality. A poor young man who comes into a fortune of time, though too late to help his mother from dying. He ends up on the run from a corrupt police force known as 'time keepers'.",
           "poster_path": "/3Mwj2sIONQckOZP3YwsUXF7U5I4.jpg",
           "release_date": "2011-10-27",
           "title": "In Time",
           "video": false,
           "vote_average": 6.9,
           "vote_count": 9007
          },
          {
           "adult": false,
           "backdrop_path": "/cWh55wCeuScolP0KbIeL4Hz9enH.jpg",
           "genre_ids": [
            35,
            80,
            28
           ],
           "id": 290250,
           "media_type": "movie",
           "original_language": "en",
           "original_title": "The Nice Guys",
           "overview": "A private eye investigates the apparent suicide of a fading porn star in 1970s Los Angeles and uncovers a conspiracy.",
           "poster_path": "/clq4So9spa9cXk3MZy2iMdqkxP2.jpg",
           "release_date": "2016-05-15",
           "title": "The Nice Guys",
           "video": false,
           "vote_average": 7.1,
           "vote_count": 6109
          },
          {
           "adult": false,
           "backdrop_path": "/8GXri7UnwE7dVNfUAZVDn7Z8UBZ.jpg",
           "genre_ids": [
            12,
            28,
            37
           ],
           "id": 333484,
           "media_type": "movie",
           "original_language": "en",
           "original_title": "The Magnificent Seven",
           "overview": "Looking to mine for gold, greedy industrialist Bartholomew Bogue seizes control of the Old West town of Rose Creek. With their lives in jeopardy, Emma Cullen and other desperate residents turn to bounty hunter Sam Chisolm for help. Chisolm recruits an eclectic group of gunslingers to take on Bogue and his ruthless henchmen. With a deadly showdown on the horizon, the seven mercenaries soon find themselves fighting for more than just money once the bullets start to fly.",
           "poster_path": "/ezcS78TIjgr85pVdaPDd2rSPVNs.jpg",
           "release_date": "2016-09-14",
           "title": "The Magnificent Seven",
           "video": false,
           "vote_average": 6.3,
           "vote_count": 4788
          }
         ],
         "known_for_department": "Acting",
         "name": "Matt Bomer",
         "popularity": 8.399,
         "profile_path": "/jvYzsP08M9H76eHu0k1ALdmNnoM.jpg"
        },
        {
         "adult": false,
         "gender": 0,
         "id": 3254625,
         "known_for": [],
         "known_for_department": "Acting",
         "name": "Matt Bomer",
         "popularity": 0.6,
         "profile_path": null
        }
       ],
       "total_pages": 1,
       "total_results": 2
      },
      "text/plain": [
       "<IPython.core.display.JSON object>"
      ]
     },
     "execution_count": 13,
     "metadata": {
      "application/json": {
       "expanded": false,
       "root": "root"
      }
     },
     "output_type": "execute_result"
    }
   ],
   "source": [
    "fav_actor = 'Matt Bomer'\n",
    "\n",
    "url = '/search/person'\n",
    "parameters = {\n",
    "    'api_key': api_key,\n",
    "    'query': fav_actor\n",
    "             }\n",
    "\n",
    "fav_person = get_data(base, url, parameters)\n",
    "\n",
    "JSON(fav_person)"
   ]
  },
  {
   "cell_type": "code",
   "execution_count": 14,
   "metadata": {},
   "outputs": [],
   "source": [
    "fav_person = fav_person['results'][0]\n",
    "\n",
    "fav_actor_info = {}\n",
    "fav_actor_info['name'] = fav_person['name']"
   ]
  },
  {
   "cell_type": "code",
   "execution_count": 15,
   "metadata": {},
   "outputs": [
    {
     "name": "stdout",
     "output_type": "stream",
     "text": [
      "200\n"
     ]
    },
    {
     "data": {
      "application/json": {
       "adult": false,
       "also_known_as": [
        "Matthew Bomer"
       ],
       "biography": "Matthew Staton \"Matt\" Bomer (born October 11, 1977) is an American actor. He made his television debut with Guiding Light in 2001, and gained recognition with his recurring role in the NBC television series Chuck. He played the lead role of con-artist and thief Neal Caffrey in the USA Network series White Collar from 2009 to 2014. Bomer won a Golden Globe Award and received a Primetime Emmy Award nomination for his supporting role as Felix Turner, opposite Mark Ruffalo, in the HBO television film The Normal Heart (2014).",
       "birthday": "1977-10-11",
       "deathday": null,
       "gender": 2,
       "homepage": null,
       "id": 66743,
       "imdb_id": "nm0093589",
       "known_for_department": "Acting",
       "name": "Matt Bomer",
       "place_of_birth": "Webster Groves, Missouri, USA",
       "popularity": 8.399,
       "profile_path": "/jvYzsP08M9H76eHu0k1ALdmNnoM.jpg"
      },
      "text/plain": [
       "<IPython.core.display.JSON object>"
      ]
     },
     "execution_count": 15,
     "metadata": {
      "application/json": {
       "expanded": false,
       "root": "root"
      }
     },
     "output_type": "execute_result"
    }
   ],
   "source": [
    "url = f'/person/{fav_person[\"id\"]}'\n",
    "parameters = {'api_key': api_key}\n",
    "\n",
    "fav_actor_details = get_data(base, url, parameters)\n",
    "\n",
    "JSON(fav_actor_details)"
   ]
  },
  {
   "cell_type": "code",
   "execution_count": 17,
   "metadata": {},
   "outputs": [],
   "source": [
    "fav_actor_info['date of birth'] = fav_actor_details['birthday']\n",
    "fav_actor_info['place of birth'] = fav_actor_details['place_of_birth']\n",
    "fav_actor_info['length of the biography'] = len(fav_actor_details['biography'])"
   ]
  },
  {
   "cell_type": "code",
   "execution_count": 18,
   "metadata": {},
   "outputs": [
    {
     "data": {
      "text/plain": [
       "{'name': 'Matt Bomer',\n",
       " 'date of birth': '1977-10-11',\n",
       " 'place of birth': 'Webster Groves, Missouri, USA',\n",
       " 'length of the biography': 526}"
      ]
     },
     "execution_count": 18,
     "metadata": {},
     "output_type": "execute_result"
    }
   ],
   "source": [
    "fav_actor_info"
   ]
  },
  {
   "cell_type": "markdown",
   "metadata": {},
   "source": [
    "## Task\n",
    "Search for you favorite tv-show and return the information about it:\n",
    "- name\n",
    "- first air date\n",
    "- number of seasons\n",
    "- number of episodes\n",
    "- genres"
   ]
  },
  {
   "cell_type": "code",
   "execution_count": 21,
   "metadata": {},
   "outputs": [
    {
     "name": "stdout",
     "output_type": "stream",
     "text": [
      "200\n"
     ]
    },
    {
     "data": {
      "application/json": {
       "page": 1,
       "results": [
        {
         "backdrop_path": "/7RySzFeK3LPVMXcPtqfZnl6u4p1.jpg",
         "first_air_date": "2007-09-24",
         "genre_ids": [
          35
         ],
         "id": 1418,
         "name": "The Big Bang Theory",
         "origin_country": [
          "US"
         ],
         "original_language": "en",
         "original_name": "The Big Bang Theory",
         "overview": "The sitcom is centered on five characters living in Pasadena, California: roommates Leonard Hofstadter and Sheldon Cooper; Penny, a waitress and aspiring actress who lives across the hall; and Leonard and Sheldon's equally geeky and socially awkward friends and co-workers, mechanical engineer Howard Wolowitz and astrophysicist Raj Koothrappali. The geekiness and intellect of the four guys is contrasted for comic effect with Penny's social skills and common sense.",
         "popularity": 147.308,
         "poster_path": "/ooBGRQBdbGzBxAVfExiO8r7kloA.jpg",
         "vote_average": 7.8,
         "vote_count": 7787
        }
       ],
       "total_pages": 1,
       "total_results": 1
      },
      "text/plain": [
       "<IPython.core.display.JSON object>"
      ]
     },
     "execution_count": 21,
     "metadata": {
      "application/json": {
       "expanded": false,
       "root": "root"
      }
     },
     "output_type": "execute_result"
    }
   ],
   "source": [
    "fav_tvshow = 'The Big Bang Theory'\n",
    "\n",
    "url = '/search/tv'\n",
    "parameters = {\n",
    "    'api_key': api_key,\n",
    "    'query': fav_tvshow\n",
    "             }\n",
    "\n",
    "fav_tv = get_data(base, url, parameters)\n",
    "\n",
    "JSON(fav_tv)"
   ]
  },
  {
   "cell_type": "code",
   "execution_count": 22,
   "metadata": {},
   "outputs": [],
   "source": [
    "fav_tvshow_info = {}\n",
    "fav_tv = fav_tv['results'][0]\n",
    "\n",
    "fav_tvshow_info['name'] = fav_tv['name']\n",
    "fav_tvshow_info['first air date'] = fav_tv['first_air_date']"
   ]
  },
  {
   "cell_type": "code",
   "execution_count": 24,
   "metadata": {},
   "outputs": [
    {
     "name": "stdout",
     "output_type": "stream",
     "text": [
      "200\n"
     ]
    },
    {
     "data": {
      "application/json": {
       "backdrop_path": "/7RySzFeK3LPVMXcPtqfZnl6u4p1.jpg",
       "created_by": [
        {
         "credit_id": "5256d00719c2956ff60a3d0e",
         "gender": 2,
         "id": 160172,
         "name": "Chuck Lorre",
         "profile_path": "/8OTRD3d6N0GKy1Z0LJaWZ3MVxXr.jpg"
        },
        {
         "credit_id": "5256d00719c2956ff60a3d14",
         "gender": 2,
         "id": 163528,
         "name": "Bill Prady",
         "profile_path": null
        }
       ],
       "episode_run_time": [
        22
       ],
       "first_air_date": "2007-09-24",
       "genres": [
        {
         "id": 35,
         "name": "Comedy"
        }
       ],
       "homepage": "http://www.cbs.com/shows/big_bang_theory/",
       "id": 1418,
       "in_production": false,
       "languages": [
        "en"
       ],
       "last_air_date": "2019-05-16",
       "last_episode_to_air": {
        "air_date": "2019-05-16",
        "episode_number": 24,
        "id": 2767846,
        "name": "Unraveling the Mystery: A Big Bang Farewell",
        "overview": "Johnny Galecki and Kaley Cuoco will lead fans on a trip down memory lane, sharing some of the best-kept backstage secrets and personal memories from the past 12 years.",
        "production_code": "",
        "season_number": 12,
        "still_path": "/ynEerYMNPWg7Qp0Sm7Z1jUevko4.jpg",
        "vote_average": 8,
        "vote_count": 1
       },
       "name": "The Big Bang Theory",
       "networks": [
        {
         "id": 16,
         "logo_path": "/nm8d7P7MJNiBLdgIzUK0gkuEA4r.png",
         "name": "CBS",
         "origin_country": "US"
        }
       ],
       "next_episode_to_air": null,
       "number_of_episodes": 279,
       "number_of_seasons": 12,
       "origin_country": [
        "US"
       ],
       "original_language": "en",
       "original_name": "The Big Bang Theory",
       "overview": "The sitcom is centered on five characters living in Pasadena, California: roommates Leonard Hofstadter and Sheldon Cooper; Penny, a waitress and aspiring actress who lives across the hall; and Leonard and Sheldon's equally geeky and socially awkward friends and co-workers, mechanical engineer Howard Wolowitz and astrophysicist Raj Koothrappali. The geekiness and intellect of the four guys is contrasted for comic effect with Penny's social skills and common sense.",
       "popularity": 147.308,
       "poster_path": "/ooBGRQBdbGzBxAVfExiO8r7kloA.jpg",
       "production_companies": [
        {
         "id": 35504,
         "logo_path": "/e70DaugzSRbTbVEhZV3e1nCofcY.png",
         "name": "Chuck Lorre Productions",
         "origin_country": "US"
        },
        {
         "id": 1957,
         "logo_path": "/3T19XSr6yqaLNK8uJWFImPgRax0.png",
         "name": "Warner Bros. Television",
         "origin_country": "US"
        }
       ],
       "production_countries": [
        {
         "iso_3166_1": "US",
         "name": "United States of America"
        }
       ],
       "seasons": [
        {
         "air_date": null,
         "episode_count": 3,
         "id": 3732,
         "name": "Specials",
         "overview": "",
         "poster_path": "/gtWHKUsG8de6LdZQoCsjUqrLJ1R.jpg",
         "season_number": 0
        },
        {
         "air_date": "2007-09-24",
         "episode_count": 17,
         "id": 3738,
         "name": "Season 1",
         "overview": "University physicists Leonard and Sheldon know whether to use an integral or a differential to solve the area under a curve. But they don't have a clue about girls. Or dating. Or clothes. Or parties. Or having fun. Or, basically, life. So when a pretty blonde named Penny moves in the apartment across the hall, the guys decide to get an education outside of the classroom. Boys, you have a lot to learn.",
         "poster_path": "/zqAL2rav7Tg8uwDtLurqZVN3mtr.jpg",
         "season_number": 1
        },
        {
         "air_date": "2008-09-22",
         "episode_count": 23,
         "id": 3733,
         "name": "Season 2",
         "overview": "This season, Leonard gets a girl. So does Sheldon. Howard drives the Mars Rover into a ditch. Raj woos a terminator. Gorgeous girl-next-door Penny falls under the spell of Age of Conan. And super-smart, ueberconfident Leslie Winkler reduces mere men to spineless jellyfish.",
         "poster_path": "/2NBwUBZ4clwj6qO9fBinfxiB0dR.jpg",
         "season_number": 2
        },
        {
         "air_date": "2009-09-21",
         "episode_count": 23,
         "id": 3734,
         "name": "Season 3",
         "overview": "Worlds collide in Season 3! A love affair with Penny has opened a big, wide, wonderful world of romance for Leonard. But Sheldon likes the world just the way it was, thank you. All of which makes for a zany comic triangle with brainy, clueless Sheldon and practical, grounded Penny hilariously vying for the role of hypotenuse.",
         "poster_path": "/j64iUb52W2IYE9qV9pLi5tFq8IE.jpg",
         "season_number": 3
        },
        {
         "air_date": "2010-09-23",
         "episode_count": 24,
         "id": 3735,
         "name": "Season 4",
         "overview": "This season the Big Bang gang’s romantic universe expands. On the rebound from Penny, Leonard falls into the arms of Raj’s sister Priya. Sheldon gets a girlfriend, or rather a friend who is a girl: Amy, a dour neurobiologist who declares herself besties with Penny. Howard and Bernadette heat up. And so do Raj and Bernadette (at least in Raj’s Bollywood daydream).",
         "poster_path": "/hM2TYCmOVXop1xhLA1Mbqyg60ze.jpg",
         "season_number": 4
        },
        {
         "air_date": "2011-09-22",
         "episode_count": 24,
         "id": 3736,
         "name": "Season 5",
         "overview": "In season five, Penny and Leonard's relationship is relaunched in full \"beta test\" mode, while Sheldon, Howard, and Raj discover the feminine mystique is something that cannot be easily graphed or calculated. As Sheldon makes begrudging amendments to his \"Relationship Agreement\" with his \"friend-who-happens-to-be-a-girl\" Amy Farrah Fowler, Raj contemplates an arranged marriage, and Howard is all-systems-go for both is NASA space launch and wedding to the spirited Bernadette.",
         "poster_path": "/l08Z8ihAsTRPEuOehbwk4axg3cu.jpg",
         "season_number": 5
        },
        {
         "air_date": "2012-09-27",
         "episode_count": 24,
         "id": 3737,
         "name": "Season 6",
         "overview": "Whether on or above Earth, hilarity is outrageously universal in TV's most popular comedy featuring four forward-thinking but socially backward geniuses. Fun discoveries multiply: Leonard learns jealousy is bad for a relationship (with Penny) but science is good for seduction (of Penny). Howard finds life in the International Space Station life is no escape from terrestrial turmoil between his mom and his new wife Bernadette. Raj meets someone special who may be a good match, if he can keep her from fleeing mid-date. And then there's Sheldon. He learns what not to say after facing harassment charges or competing for tenure at work and how Dungeons & Dragons can be the icebreaker his relationship with Amy needs.",
         "poster_path": "/2Rsb94mlt4OHhiO2UWatDOhnBqv.jpg",
         "season_number": 6
        },
        {
         "air_date": "2013-09-26",
         "episode_count": 24,
         "id": 3739,
         "name": "Season 7",
         "overview": "Leonard returns from his North Sea expedition to find that his relationship with Penny involves more beta-testing than he’s ever done in a lab. Howard’s attachment issues with the women in his life in particular and Raj’s social breakthrough with women in general provide more laughs. Bernadette and Amy stand staunchly by the men in their life, even when they’re sitting in marathon role-playing games. Sheldon sees his mom in a totally different way, parties with James Earl Jones, establishes a (sort of) bond with his idol Professor Proton and makes a scientific breakthrough that breaks down before you can say Science Friday.",
         "poster_path": "/j1FU0qKHx1F8FVBmK5DBOTrhsAr.jpg",
         "season_number": 7
        },
        {
         "air_date": "2014-09-22",
         "episode_count": 24,
         "id": 62016,
         "name": "Season 8",
         "overview": "Sheldon is rescued from his soul-searching cross-country train trip (older but no wiser) and that means The Big Bang Theory gang's all here to spread another gear's cheer as TV's most attended laugh seminar. Enrol in the comic curriculum to observe Leonard's minor surgery, which signals a major catastrophe for Sheldon, Howard's obsession over his mum's relationship with friend-turned-freeloader Stuart and the unexpected results of Penny's technique as a pharmaceutical sales rep. Discover ways to re-create proms not attended or holiday celebrations not especially beloved and play a new game based on Raj's dating life. Savour online fan Fiction by Amy, watch Bernadette take indelicate command of some delicate family matters and, who knows, you might spot a cool special guest or two.",
         "poster_path": "/zwb4rlgJg587XcL2cekvNDnqPpq.jpg",
         "season_number": 8
        },
        {
         "air_date": "2015-09-21",
         "episode_count": 24,
         "id": 70493,
         "name": "Season 9",
         "overview": "Our two genius roommates, Leonard and Sheldon, and their friends are back once again (smarter, but no wiser). Last season, Sheldon went soul-searching (on a train, of course) and was prepared to make some substantial revisions on his Relationship Agreement with Amy, when everything changed. Leonard, meanwhile, was off to Vegas with Penny to finally tie the knot in the season finale. Howard finds himself alone with Bernadette after the sudden passing of his mother; while Raj is not only talking to women – he’s getting exclusive with Emily. Together, they will all learn that life is far more complicated outside of the lab as love and friendship never produce predictable results!",
         "poster_path": "/jS4G1FRgYz27jhUvNuUjVRTocs9.jpg",
         "season_number": 9
        },
        {
         "air_date": "2016-09-19",
         "episode_count": 24,
         "id": 80035,
         "name": "Season 10",
         "overview": "Leonard and Penny renew their vows, this time inviting their friends and family for wedding party; they also learn that marriage is about compromise, and figure out how to support each other. Sheldon and Amy experiment to take their relationship to the next level, and after an emotional struggle they move in together in Penny's old apartment. Howard and Bernadette realise that being a parent is a full-time job, but with the help of their friends they manage to find joy in raising their child. When his friends tell him he's extremely spoiled, Raj decides to stop taking his father's money and learn how to make ends meet.",
         "poster_path": "/uvHrLmv0DqraODGwSLKtJ2pBDne.jpg",
         "season_number": 10
        },
        {
         "air_date": "2017-09-25",
         "episode_count": 24,
         "id": 91000,
         "name": "Season 11",
         "overview": "After years of only looking out for himself, Sheldon found Amy Farrah Fowler to be the most patient woman to ever walk the earth, and... they did it! Wedding fever continues in season 11.",
         "poster_path": "/A373F7AzZtIFy3l2LryC2yr2hC2.jpg",
         "season_number": 11
        },
        {
         "air_date": "2018-09-24",
         "episode_count": 24,
         "id": 107083,
         "name": "Season 12",
         "overview": "",
         "poster_path": "/txta7TTNUfGCgsJI9oB6vb6uFlA.jpg",
         "season_number": 12
        }
       ],
       "spoken_languages": [
        {
         "english_name": "English",
         "iso_639_1": "en",
         "name": "English"
        }
       ],
       "status": "Ended",
       "tagline": "",
       "type": "Scripted",
       "vote_average": 7.8,
       "vote_count": 7787
      },
      "text/plain": [
       "<IPython.core.display.JSON object>"
      ]
     },
     "execution_count": 24,
     "metadata": {
      "application/json": {
       "expanded": false,
       "root": "root"
      }
     },
     "output_type": "execute_result"
    }
   ],
   "source": [
    "url = f'/tv/{fav_tv[\"id\"]}'\n",
    "parameters = {'api_key': api_key}\n",
    "\n",
    "fav_tvshow_details = get_data(base, url, parameters)\n",
    "\n",
    "JSON(fav_tvshow_details)"
   ]
  },
  {
   "cell_type": "code",
   "execution_count": 28,
   "metadata": {},
   "outputs": [],
   "source": [
    "fav_tvshow_info['number of seasons'] = fav_tvshow_details['number_of_seasons']\n",
    "fav_tvshow_info['number of episodes'] = fav_tvshow_details['number_of_episodes']\n",
    "fav_tvshow_info['genres'] = fav_tvshow_details['genres'][0]['name']"
   ]
  },
  {
   "cell_type": "code",
   "execution_count": 29,
   "metadata": {},
   "outputs": [
    {
     "data": {
      "text/plain": [
       "{'name': 'The Big Bang Theory',\n",
       " 'first air date': '2007-09-24',\n",
       " 'number of seasons': 12,\n",
       " 'number of episodes': 279,\n",
       " 'genres': 'Comedy'}"
      ]
     },
     "execution_count": 29,
     "metadata": {},
     "output_type": "execute_result"
    }
   ],
   "source": [
    "fav_tvshow_info"
   ]
  },
  {
   "cell_type": "markdown",
   "metadata": {},
   "source": [
    "## Task \n",
    "Find top 5 trending:\n",
    "- movies\n",
    "- tv-shows\n",
    "- people"
   ]
  },
  {
   "cell_type": "code",
   "execution_count": 37,
   "metadata": {},
   "outputs": [
    {
     "name": "stdout",
     "output_type": "stream",
     "text": [
      "200\n",
      "Top 5 movie dayly are:\n",
      "\n",
      "\tDune\n",
      "\tHypnotic\n",
      "\tAfter We Fell\n",
      "\tNobody Sleeps in the Woods Tonight 2\n",
      "\tVenom: Let There Be Carnage\n",
      "200\n",
      "Top 5 tv dayly are:\n",
      "\n",
      "\tSquid Game\n",
      "\tChucky\n",
      "\tStar Trek: Prodigy\n",
      "\tSintonia\n",
      "\tInvasion\n",
      "200\n",
      "Top 5 person dayly are:\n",
      "\n",
      "\tNoomi Rapace\n",
      "\tValdimar Jóhannsson\n",
      "\tM. Night Shyamalan\n",
      "\tNicolas Cage\n",
      "\tJackie Chan\n",
      "200\n",
      "Top 5 movie weekly are:\n",
      "\n",
      "\tDune\n",
      "\tVenom: Let There Be Carnage\n",
      "\tAfter We Fell\n",
      "\tHalloween Kills\n",
      "\tFree Guy\n",
      "200\n",
      "Top 5 tv weekly are:\n",
      "\n",
      "\tSquid Game\n",
      "\tChucky\n",
      "\tInvasion\n",
      "\tMoney Heist\n",
      "\tYou\n",
      "200\n",
      "Top 5 person weekly are:\n",
      "\n",
      "\tNoomi Rapace\n",
      "\tJackie Chan\n",
      "\tAlec Baldwin\n",
      "\tTom Hanks\n",
      "\tBruce Willis\n"
     ]
    }
   ],
   "source": [
    "media_types = ['movie', 'tv', 'person']\n",
    "time_window = ['day', 'week']\n",
    "\n",
    "for time in time_window:\n",
    "    for media in media_types:\n",
    "        url = f'/trending/{media}/{time}'\n",
    "        parameters = {'api_key': api_key}\n",
    "        trending_data = get_data(base, url, parameters)\n",
    "        \n",
    "        print(f'Top 5 {media} {time}ly are:\\n')\n",
    "        \n",
    "        for i in range(5):\n",
    "            if 'title' in trending_data['results'][i]:\n",
    "                print(f'\\t{trending_data[\"results\"][i][\"title\"]}')\n",
    "            else:\n",
    "                print(f'\\t{trending_data[\"results\"][i][\"name\"]}')\n",
    "        "
   ]
  },
  {
   "cell_type": "code",
   "execution_count": null,
   "metadata": {},
   "outputs": [],
   "source": []
  }
 ],
 "metadata": {
  "kernelspec": {
   "display_name": "Python 3",
   "language": "python",
   "name": "python3"
  },
  "language_info": {
   "codemirror_mode": {
    "name": "ipython",
    "version": 3
   },
   "file_extension": ".py",
   "mimetype": "text/x-python",
   "name": "python",
   "nbconvert_exporter": "python",
   "pygments_lexer": "ipython3",
   "version": "3.8.11"
  }
 },
 "nbformat": 4,
 "nbformat_minor": 4
}
